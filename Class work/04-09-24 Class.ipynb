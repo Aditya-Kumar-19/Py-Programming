{
 "cells": [
  {
   "cell_type": "code",
   "execution_count": 4,
   "id": "f3a568d8",
   "metadata": {},
   "outputs": [
    {
     "name": "stdout",
     "output_type": "stream",
     "text": [
      "cumulative sum:  [1, 3, 6, 10, 15]\n",
      "Total sum:  15\n",
      "\n"
     ]
    }
   ],
   "source": [
    "def calc(input):\n",
    "\n",
    "    # Initialize variables to store the sum, cumulative sum, and count\n",
    "    sum = 0\n",
    "    c_sum = []\n",
    "    count = 0\n",
    "    \n",
    "    # Initialize variables to store the minimum and maximum values\n",
    "    min = int()\n",
    "    max = int()\n",
    "\n",
    "    for num in input:\n",
    "        # sum and count updation\n",
    "        sum += num\n",
    "        count += 1\n",
    "        \n",
    "        # Update the cumulative sum\n",
    "        c_sum.append(sum)\n",
    "        \n",
    "        # Update the minimum and maximum values\n",
    "        if num < min:\n",
    "            min = num\n",
    "        if num > max:\n",
    "            max = num\n",
    "    avg=sum/count\n",
    "\n",
    "    \n",
    "    print(\"cumulative sum: \",c_sum)\n",
    "    print(\"Total sum: \",sum)\n",
    "\n",
    "# Testing:\n",
    "numbers = [1, 2, 3, 4, 5]\n",
    "result = calc(numbers)\n",
    "print()"
   ]
  },
  {
   "cell_type": "code",
   "execution_count": 2,
   "id": "f06f344f",
   "metadata": {},
   "outputs": [
    {
     "name": "stdout",
     "output_type": "stream",
     "text": [
      "How many elements do you want to input? 4\n",
      "Enter element 1: 3\n",
      "Enter element 2: 3\n",
      "Enter element 3: 3\n",
      "Enter element 4: 3\n",
      "Your list is: ['3', '3', '3', '3']\n"
     ]
    }
   ],
   "source": [
    "num = int(input(\"How many elements do you want to input? \"))\n",
    "\n",
    "list = []\n",
    "\n",
    "for i in range(num):\n",
    "    element = input(f\"Enter element {i+1}: \")\n",
    "    list.append(element)\n",
    "\n",
    "print(\"Your list is:\", list)"
   ]
  },
  {
   "cell_type": "code",
   "execution_count": null,
   "id": "dc98f406",
   "metadata": {},
   "outputs": [],
   "source": []
  }
 ],
 "metadata": {
  "kernelspec": {
   "display_name": "Python 3 (ipykernel)",
   "language": "python",
   "name": "python3"
  },
  "language_info": {
   "codemirror_mode": {
    "name": "ipython",
    "version": 3
   },
   "file_extension": ".py",
   "mimetype": "text/x-python",
   "name": "python",
   "nbconvert_exporter": "python",
   "pygments_lexer": "ipython3",
   "version": "3.11.6"
  }
 },
 "nbformat": 4,
 "nbformat_minor": 5
}
