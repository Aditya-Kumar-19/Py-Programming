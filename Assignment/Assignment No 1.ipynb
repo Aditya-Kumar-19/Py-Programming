{
 "cells": [
  {
   "cell_type": "code",
   "execution_count": 1,
   "id": "ed246d20",
   "metadata": {},
   "outputs": [
    {
     "name": "stdout",
     "output_type": "stream",
     "text": [
      "Hello, Python World\n"
     ]
    }
   ],
   "source": [
    "print('Hello, Python World')#Print the following text"
   ]
  },
  {
   "cell_type": "code",
   "execution_count": 2,
   "id": "a5d6e7cb",
   "metadata": {},
   "outputs": [
    {
     "name": "stdout",
     "output_type": "stream",
     "text": [
      "Enter your first name: Atul\n",
      "Enter your last name: Kumar\n",
      "Kumar Atul\n"
     ]
    }
   ],
   "source": [
    "f_name = input(\"Enter your first name: \")#first name input\n",
    "l_name = input(\"Enter your last name: \")#second name input\n",
    "\n",
    "f_name = f_name.strip()\n",
    "l_name = l_name.strip()\n",
    "\n",
    "f_name = f_name.title()\n",
    "l_name = l_name.title()\n",
    "\n",
    "print(l_name + \" \" + f_name)"
   ]
  },
  {
   "cell_type": "code",
   "execution_count": 3,
   "id": "df88a1ca",
   "metadata": {},
   "outputs": [
    {
     "name": "stdout",
     "output_type": "stream",
     "text": [
      "Enter a number: 34\n",
      "Integer: 34\n",
      "Float: 34.0\n",
      "Complex: (34+0j)\n"
     ]
    }
   ],
   "source": [
    "num = input(\"Enter a number: \")\n",
    "\n",
    "int_num = int(num)  \n",
    "float_num = float(num)  \n",
    "complex_num = complex(num)  \n",
    "\n",
    "print(\"Integer:\", int_num)\n",
    "print(\"Float:\", float_num)\n",
    "print(\"Complex:\", complex_num)"
   ]
  },
  {
   "cell_type": "code",
   "execution_count": 4,
   "id": "0a2e2fd4",
   "metadata": {},
   "outputs": [
    {
     "name": "stdout",
     "output_type": "stream",
     "text": [
      "Enter the length of the rectangle: 34\n",
      "Enter the Breadth of the rectangle: 2\n",
      "The area of the rectangle is: 68.0\n"
     ]
    }
   ],
   "source": [
    "length = float(input(\"Enter the length of the rectangle: \"))\n",
    "breadth = float(input(\"Enter the Breadth of the rectangle: \"))\n",
    "\n",
    "area = length * breadth\n",
    "\n",
    "print(\"The area of the rectangle is:\", area)"
   ]
  },
  {
   "cell_type": "code",
   "execution_count": 5,
   "id": "26428671",
   "metadata": {},
   "outputs": [
    {
     "name": "stdout",
     "output_type": "stream",
     "text": [
      "Enter the length of the rectangle: 34\n",
      "Enter the breadth of the rectangle: 2\n",
      "The area of the rectangle is: 68.00\n"
     ]
    }
   ],
   "source": [
    "length = float(input(\"Enter the length of the rectangle: \"))\n",
    "breadth = float(input(\"Enter the breadth of the rectangle: \"))\n",
    "\n",
    "area = length * breadth\n",
    "\n",
    "print(\"The area of the rectangle is: {:.2f}\".format(area))"
   ]
  },
  {
   "cell_type": "code",
   "execution_count": 1,
   "id": "9e9b86ba",
   "metadata": {},
   "outputs": [
    {
     "name": "stdout",
     "output_type": "stream",
     "text": [
      "Enter the first number: 2\n",
      "Enter the second number: 3\n",
      "Enter the third number: 4\n",
      "The average of the three numbers is: 3.00\n"
     ]
    }
   ],
   "source": [
    "num1 = float(input(\"Enter the first number: \"))\n",
    "num2 = float(input(\"Enter the second number: \"))\n",
    "num3 = float(input(\"Enter the third number: \"))\n",
    "\n",
    "average = (num1 + num2 + num3) / 3\n",
    "\n",
    "print(\"The average of the three numbers is: %.2f\" % average)"
   ]
  },
  {
   "cell_type": "code",
   "execution_count": null,
   "id": "67246426",
   "metadata": {},
   "outputs": [
    {
     "name": "stdout",
     "output_type": "stream",
     "text": [
      "Enter a number (or 'exit' to quit): 34\n",
      "The number is positive.\n"
     ]
    }
   ],
   "source": [
    "while True:\n",
    "    user_input = input(\"Enter a number (or 'exit' to quit): \")\n",
    "\n",
    "    if user_input.lower() == 'exit':\n",
    "        break\n",
    "\n",
    "    try:\n",
    "        num = float(user_input)\n",
    "    except ValueError:\n",
    "        print(\"Invalid input. Please enter a number or 'exit'.\")\n",
    "        continue\n",
    "\n",
    "    if num > 0:\n",
    "        print(\"The number is positive.\")\n",
    "    elif num < 0:\n",
    "        print(\"The number is negative.\")\n",
    "    else:\n",
    "        print(\"The number is zero.\")"
   ]
  },
  {
   "cell_type": "code",
   "execution_count": 1,
   "id": "dc96a47b",
   "metadata": {},
   "outputs": [
    {
     "name": "stdout",
     "output_type": "stream",
     "text": [
      "Enter the first number: 34\n",
      "Enter the second number: 43\n",
      "One number is even and the other is odd.\n"
     ]
    }
   ],
   "source": [
    "num1 = int(input(\"Enter the first number: \"))\n",
    "num2 = int(input(\"Enter the second number: \"))\n",
    "\n",
    "if num1 % 2 == 0 and num2 % 2 == 0:\n",
    "    print(\"Both numbers are even.\")\n",
    "elif num1 % 2 != 0 and num2 % 2 != 0:\n",
    "    print(\"Both numbers are odd.\")\n",
    "else:\n",
    "    print(\"One number is even and the other is odd.\")"
   ]
  },
  {
   "cell_type": "code",
   "execution_count": 2,
   "id": "86975cfb",
   "metadata": {},
   "outputs": [
    {
     "name": "stdout",
     "output_type": "stream",
     "text": [
      "Enter a number: 32\n",
      "Binary: 00100000\n",
      "Octal: 40\n",
      "Hexadecimal: 20\n"
     ]
    }
   ],
   "source": [
    "num = int(input(\"Enter a number: \"))\n",
    "\n",
    "print(\"Binary:\", end=\" \")\n",
    "for i in range(7, -1, -1):\n",
    "    print((num >> i) & 1, end=\"\")\n",
    "print()\n",
    "\n",
    "print(\"Octal:\", oct(num).lstrip(\"0o\"))\n",
    "print(\"Hexadecimal:\", hex(num).lstrip(\"0x\"))"
   ]
  },
  {
   "cell_type": "code",
   "execution_count": null,
   "id": "e508e1fc",
   "metadata": {},
   "outputs": [],
   "source": []
  }
 ],
 "metadata": {
  "kernelspec": {
   "display_name": "Python 3 (ipykernel)",
   "language": "python",
   "name": "python3"
  },
  "language_info": {
   "codemirror_mode": {
    "name": "ipython",
    "version": 3
   },
   "file_extension": ".py",
   "mimetype": "text/x-python",
   "name": "python",
   "nbconvert_exporter": "python",
   "pygments_lexer": "ipython3",
   "version": "3.11.6"
  }
 },
 "nbformat": 4,
 "nbformat_minor": 5
}
