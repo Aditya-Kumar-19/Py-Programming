{
 "cells": [
  {
   "cell_type": "code",
   "execution_count": 1,
   "metadata": {},
   "outputs": [
    {
     "data": {
      "text/plain": [
       "['123546234@stu.upes.ac.in',\n",
       " '234234424@stu.upes.ac.in',\n",
       " '345345756@stu.upes.ac.in',\n",
       " '450913245@stu.upes.ac.in']"
      ]
     },
     "execution_count": 1,
     "metadata": {},
     "output_type": "execute_result"
    }
   ],
   "source": [
    "# 1st Logic\n",
    "sapids=[123546234,234234424,345345756,450913245]\n",
    "def id2email(id):\n",
    "    return str(id) + \"@stu.upes.ac.in\"\n",
    "\n",
    "# list_of_emails = map(id2email,sapids)\n",
    "\n",
    "list_of_emails = list(map(id2email,sapids))\n",
    "list_of_emails"
   ]
  },
  {
   "cell_type": "code",
   "execution_count": 4,
   "metadata": {},
   "outputs": [
    {
     "data": {
      "text/plain": [
       "['987653214@stu.upes.ac.in',\n",
       " '987654321@stu.upes.ac.in',\n",
       " '243567819@stu.upes.ac.in']"
      ]
     },
     "execution_count": 4,
     "metadata": {},
     "output_type": "execute_result"
    }
   ],
   "source": [
    "#2nd logic\n",
    "sapids=[987653214,987654321,243567819]\n",
    "list_of_emails=list(map(lambda id: str(id)+\"@stu.upes.ac.in\",sapids))\n",
    "list_of_emails"
   ]
  },
  {
   "cell_type": "code",
   "execution_count": 6,
   "metadata": {},
   "outputs": [
    {
     "data": {
      "text/plain": [
       "['987653214@stu.upes.ac.in',\n",
       " '987654321@stu.upes.ac.in',\n",
       " '243567819@stu.upes.ac.in']"
      ]
     },
     "execution_count": 6,
     "metadata": {},
     "output_type": "execute_result"
    }
   ],
   "source": [
    "#3rd logic\n",
    "sapids=[987653214,987654321,243567819]\n",
    "list_of_emails=[f\"{id}@stu.upes.ac.in\" for id in sapids]\n",
    "list_of_emails"
   ]
  },
  {
   "cell_type": "code",
   "execution_count": 8,
   "metadata": {},
   "outputs": [
    {
     "name": "stdout",
     "output_type": "stream",
     "text": [
      "division of 1/1 is 1.0\n"
     ]
    }
   ],
   "source": [
    "#wap that takes two values form user and returns division of first from second\n",
    "a=int(input(\"Enter a number: \"))\n",
    "b=int(input(\"Enter another number: \"))\n",
    "def division(a,b):\n",
    "    assert b !=0\n",
    "    return a/b\n",
    "print(f\"division of {a}/{b} is {division(a,b)}\")"
   ]
  }
 ],
 "metadata": {
  "kernelspec": {
   "display_name": "Python 3",
   "language": "python",
   "name": "python3"
  },
  "language_info": {
   "codemirror_mode": {
    "name": "ipython",
    "version": 3
   },
   "file_extension": ".py",
   "mimetype": "text/x-python",
   "name": "python",
   "nbconvert_exporter": "python",
   "pygments_lexer": "ipython3",
   "version": "3.12.4"
  }
 },
 "nbformat": 4,
 "nbformat_minor": 2
}
